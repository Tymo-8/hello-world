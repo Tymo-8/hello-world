{
  "nbformat": 4,
  "nbformat_minor": 0,
  "metadata": {
    "colab": {
      "name": "Numpy_lesson1.ipynb",
      "provenance": [],
      "collapsed_sections": [],
      "authorship_tag": "ABX9TyM+ppOEfvutwNgqzmRpRaGM",
      "include_colab_link": true
    },
    "kernelspec": {
      "name": "python3",
      "display_name": "Python 3"
    }
  },
  "cells": [
    {
      "cell_type": "markdown",
      "metadata": {
        "id": "view-in-github",
        "colab_type": "text"
      },
      "source": [
        "<a href=\"https://colab.research.google.com/github/Tymo-8/hello-world/blob/main/Numpy_lesson1.ipynb\" target=\"_parent\"><img src=\"https://colab.research.google.com/assets/colab-badge.svg\" alt=\"Open In Colab\"/></a>"
      ]
    },
    {
      "cell_type": "code",
      "metadata": {
        "id": "SXsdnAl_K_g5"
      },
      "source": [
        "import numpy as np"
      ],
      "execution_count": 1,
      "outputs": []
    },
    {
      "cell_type": "code",
      "metadata": {
        "id": "6zN5XDT7LC9d",
        "colab": {
          "base_uri": "https://localhost:8080/"
        },
        "outputId": "668a0497-53b9-49db-e081-8fa223d1a760"
      },
      "source": [
        "help(np.array)"
      ],
      "execution_count": 2,
      "outputs": [
        {
          "output_type": "stream",
          "text": [
            "Help on built-in function array in module numpy:\n",
            "\n",
            "array(...)\n",
            "    array(object, dtype=None, copy=True, order='K', subok=False, ndmin=0)\n",
            "    \n",
            "    Create an array.\n",
            "    \n",
            "    Parameters\n",
            "    ----------\n",
            "    object : array_like\n",
            "        An array, any object exposing the array interface, an object whose\n",
            "        __array__ method returns an array, or any (nested) sequence.\n",
            "    dtype : data-type, optional\n",
            "        The desired data-type for the array.  If not given, then the type will\n",
            "        be determined as the minimum type required to hold the objects in the\n",
            "        sequence.\n",
            "    copy : bool, optional\n",
            "        If true (default), then the object is copied.  Otherwise, a copy will\n",
            "        only be made if __array__ returns a copy, if obj is a nested sequence,\n",
            "        or if a copy is needed to satisfy any of the other requirements\n",
            "        (`dtype`, `order`, etc.).\n",
            "    order : {'K', 'A', 'C', 'F'}, optional\n",
            "        Specify the memory layout of the array. If object is not an array, the\n",
            "        newly created array will be in C order (row major) unless 'F' is\n",
            "        specified, in which case it will be in Fortran order (column major).\n",
            "        If object is an array the following holds.\n",
            "    \n",
            "        ===== ========= ===================================================\n",
            "        order  no copy                     copy=True\n",
            "        ===== ========= ===================================================\n",
            "        'K'   unchanged F & C order preserved, otherwise most similar order\n",
            "        'A'   unchanged F order if input is F and not C, otherwise C order\n",
            "        'C'   C order   C order\n",
            "        'F'   F order   F order\n",
            "        ===== ========= ===================================================\n",
            "    \n",
            "        When ``copy=False`` and a copy is made for other reasons, the result is\n",
            "        the same as if ``copy=True``, with some exceptions for `A`, see the\n",
            "        Notes section. The default order is 'K'.\n",
            "    subok : bool, optional\n",
            "        If True, then sub-classes will be passed-through, otherwise\n",
            "        the returned array will be forced to be a base-class array (default).\n",
            "    ndmin : int, optional\n",
            "        Specifies the minimum number of dimensions that the resulting\n",
            "        array should have.  Ones will be pre-pended to the shape as\n",
            "        needed to meet this requirement.\n",
            "    \n",
            "    Returns\n",
            "    -------\n",
            "    out : ndarray\n",
            "        An array object satisfying the specified requirements.\n",
            "    \n",
            "    See Also\n",
            "    --------\n",
            "    empty_like : Return an empty array with shape and type of input.\n",
            "    ones_like : Return an array of ones with shape and type of input.\n",
            "    zeros_like : Return an array of zeros with shape and type of input.\n",
            "    full_like : Return a new array with shape of input filled with value.\n",
            "    empty : Return a new uninitialized array.\n",
            "    ones : Return a new array setting values to one.\n",
            "    zeros : Return a new array setting values to zero.\n",
            "    full : Return a new array of given shape filled with value.\n",
            "    \n",
            "    \n",
            "    Notes\n",
            "    -----\n",
            "    When order is 'A' and `object` is an array in neither 'C' nor 'F' order,\n",
            "    and a copy is forced by a change in dtype, then the order of the result is\n",
            "    not necessarily 'C' as expected. This is likely a bug.\n",
            "    \n",
            "    Examples\n",
            "    --------\n",
            "    >>> np.array([1, 2, 3])\n",
            "    array([1, 2, 3])\n",
            "    \n",
            "    Upcasting:\n",
            "    \n",
            "    >>> np.array([1, 2, 3.0])\n",
            "    array([ 1.,  2.,  3.])\n",
            "    \n",
            "    More than one dimension:\n",
            "    \n",
            "    >>> np.array([[1, 2], [3, 4]])\n",
            "    array([[1, 2],\n",
            "           [3, 4]])\n",
            "    \n",
            "    Minimum dimensions 2:\n",
            "    \n",
            "    >>> np.array([1, 2, 3], ndmin=2)\n",
            "    array([[1, 2, 3]])\n",
            "    \n",
            "    Type provided:\n",
            "    \n",
            "    >>> np.array([1, 2, 3], dtype=complex)\n",
            "    array([ 1.+0.j,  2.+0.j,  3.+0.j])\n",
            "    \n",
            "    Data-type consisting of more than one element:\n",
            "    \n",
            "    >>> x = np.array([(1,2),(3,4)],dtype=[('a','<i4'),('b','<i4')])\n",
            "    >>> x['a']\n",
            "    array([1, 3])\n",
            "    \n",
            "    Creating an array from sub-classes:\n",
            "    \n",
            "    >>> np.array(np.mat('1 2; 3 4'))\n",
            "    array([[1, 2],\n",
            "           [3, 4]])\n",
            "    \n",
            "    >>> np.array(np.mat('1 2; 3 4'), subok=True)\n",
            "    matrix([[1, 2],\n",
            "            [3, 4]])\n",
            "\n"
          ],
          "name": "stdout"
        }
      ]
    },
    {
      "cell_type": "code",
      "metadata": {
        "id": "Xn5V7L4iL2gp"
      },
      "source": [
        "x=np.array([1,2,3,4,5,6])"
      ],
      "execution_count": 3,
      "outputs": []
    },
    {
      "cell_type": "markdown",
      "metadata": {
        "id": "KDv1_LX5RvaG"
      },
      "source": [
        "# **Właściwości tablic 'np.array'**"
      ]
    },
    {
      "cell_type": "code",
      "metadata": {
        "colab": {
          "base_uri": "https://localhost:8080/"
        },
        "id": "ghekvn55MQgc",
        "outputId": "c590fdfb-d45e-46bf-cea8-c0f8f438df2a"
      },
      "source": [
        "x.argmax()"
      ],
      "execution_count": 4,
      "outputs": [
        {
          "output_type": "execute_result",
          "data": {
            "text/plain": [
              "5"
            ]
          },
          "metadata": {
            "tags": []
          },
          "execution_count": 4
        }
      ]
    },
    {
      "cell_type": "code",
      "metadata": {
        "colab": {
          "base_uri": "https://localhost:8080/"
        },
        "id": "oSrIyrTqMTLy",
        "outputId": "17790b65-3179-491c-b358-9dd070691cf6"
      },
      "source": [
        "x.dtype"
      ],
      "execution_count": 5,
      "outputs": [
        {
          "output_type": "execute_result",
          "data": {
            "text/plain": [
              "dtype('int64')"
            ]
          },
          "metadata": {
            "tags": []
          },
          "execution_count": 5
        }
      ]
    },
    {
      "cell_type": "code",
      "metadata": {
        "colab": {
          "base_uri": "https://localhost:8080/"
        },
        "id": "BhkDLcoAMatR",
        "outputId": "e6621260-f122-4b11-a0ed-715bc7698b91"
      },
      "source": [
        "x.shape"
      ],
      "execution_count": 6,
      "outputs": [
        {
          "output_type": "execute_result",
          "data": {
            "text/plain": [
              "(6,)"
            ]
          },
          "metadata": {
            "tags": []
          },
          "execution_count": 6
        }
      ]
    },
    {
      "cell_type": "code",
      "metadata": {
        "id": "LJTmrDwuMh9R"
      },
      "source": [
        "x = x.reshape(2,3)"
      ],
      "execution_count": 7,
      "outputs": []
    },
    {
      "cell_type": "code",
      "metadata": {
        "colab": {
          "base_uri": "https://localhost:8080/"
        },
        "id": "IcGMSEmkMl5s",
        "outputId": "78d400c4-84be-484c-da47-7daab5ecf678"
      },
      "source": [
        "x.ndim"
      ],
      "execution_count": 8,
      "outputs": [
        {
          "output_type": "execute_result",
          "data": {
            "text/plain": [
              "2"
            ]
          },
          "metadata": {
            "tags": []
          },
          "execution_count": 8
        }
      ]
    },
    {
      "cell_type": "code",
      "metadata": {
        "colab": {
          "base_uri": "https://localhost:8080/"
        },
        "id": "8pncuKiYNRzV",
        "outputId": "3ed9a528-a6db-4363-c3dd-8700df7f8633"
      },
      "source": [
        "x.shape"
      ],
      "execution_count": 9,
      "outputs": [
        {
          "output_type": "execute_result",
          "data": {
            "text/plain": [
              "(2, 3)"
            ]
          },
          "metadata": {
            "tags": []
          },
          "execution_count": 9
        }
      ]
    },
    {
      "cell_type": "code",
      "metadata": {
        "id": "dmfSk8jEN4wB"
      },
      "source": [
        "x = np.array([[1.2,3,4.,3.2],[1.3,4.5,6.2,3]],dtype='float')"
      ],
      "execution_count": 10,
      "outputs": []
    },
    {
      "cell_type": "code",
      "metadata": {
        "colab": {
          "base_uri": "https://localhost:8080/"
        },
        "id": "m0ZAbkeAPhWK",
        "outputId": "4c761be1-3f37-4e93-cb36-d0efcdb6b064"
      },
      "source": [
        "x.dtype"
      ],
      "execution_count": 11,
      "outputs": [
        {
          "output_type": "execute_result",
          "data": {
            "text/plain": [
              "dtype('float64')"
            ]
          },
          "metadata": {
            "tags": []
          },
          "execution_count": 11
        }
      ]
    },
    {
      "cell_type": "markdown",
      "metadata": {
        "id": "OUxcWnASQo5R"
      },
      "source": [
        "# **Tworzenie tablic**"
      ]
    },
    {
      "cell_type": "code",
      "metadata": {
        "colab": {
          "base_uri": "https://localhost:8080/"
        },
        "id": "o6pEBvw8Qwds",
        "outputId": "40d8ad49-c1c6-4cc7-cfd6-aaa734bacd22"
      },
      "source": [
        "x= np.zeros(shape=(2,6))\n",
        "print(x)"
      ],
      "execution_count": 12,
      "outputs": [
        {
          "output_type": "stream",
          "text": [
            "[[0. 0. 0. 0. 0. 0.]\n",
            " [0. 0. 0. 0. 0. 0.]]\n"
          ],
          "name": "stdout"
        }
      ]
    },
    {
      "cell_type": "code",
      "metadata": {
        "colab": {
          "base_uri": "https://localhost:8080/"
        },
        "id": "X6im26kJQ4qE",
        "outputId": "fccddf54-b6e5-4f96-8e32-0e8e085f1167"
      },
      "source": [
        "y=np.ones(shape=(2,4,3), dtype='int')\n",
        "y"
      ],
      "execution_count": 13,
      "outputs": [
        {
          "output_type": "execute_result",
          "data": {
            "text/plain": [
              "array([[[1, 1, 1],\n",
              "        [1, 1, 1],\n",
              "        [1, 1, 1],\n",
              "        [1, 1, 1]],\n",
              "\n",
              "       [[1, 1, 1],\n",
              "        [1, 1, 1],\n",
              "        [1, 1, 1],\n",
              "        [1, 1, 1]]])"
            ]
          },
          "metadata": {
            "tags": []
          },
          "execution_count": 13
        }
      ]
    },
    {
      "cell_type": "code",
      "metadata": {
        "colab": {
          "base_uri": "https://localhost:8080/"
        },
        "id": "XS4XdD_oRYkT",
        "outputId": "79fe341f-c66b-4c95-8ccf-5f6493b7a958"
      },
      "source": [
        "x = np.arange(10,1, -0.05)\n",
        "x"
      ],
      "execution_count": 14,
      "outputs": [
        {
          "output_type": "execute_result",
          "data": {
            "text/plain": [
              "array([10.  ,  9.95,  9.9 ,  9.85,  9.8 ,  9.75,  9.7 ,  9.65,  9.6 ,\n",
              "        9.55,  9.5 ,  9.45,  9.4 ,  9.35,  9.3 ,  9.25,  9.2 ,  9.15,\n",
              "        9.1 ,  9.05,  9.  ,  8.95,  8.9 ,  8.85,  8.8 ,  8.75,  8.7 ,\n",
              "        8.65,  8.6 ,  8.55,  8.5 ,  8.45,  8.4 ,  8.35,  8.3 ,  8.25,\n",
              "        8.2 ,  8.15,  8.1 ,  8.05,  8.  ,  7.95,  7.9 ,  7.85,  7.8 ,\n",
              "        7.75,  7.7 ,  7.65,  7.6 ,  7.55,  7.5 ,  7.45,  7.4 ,  7.35,\n",
              "        7.3 ,  7.25,  7.2 ,  7.15,  7.1 ,  7.05,  7.  ,  6.95,  6.9 ,\n",
              "        6.85,  6.8 ,  6.75,  6.7 ,  6.65,  6.6 ,  6.55,  6.5 ,  6.45,\n",
              "        6.4 ,  6.35,  6.3 ,  6.25,  6.2 ,  6.15,  6.1 ,  6.05,  6.  ,\n",
              "        5.95,  5.9 ,  5.85,  5.8 ,  5.75,  5.7 ,  5.65,  5.6 ,  5.55,\n",
              "        5.5 ,  5.45,  5.4 ,  5.35,  5.3 ,  5.25,  5.2 ,  5.15,  5.1 ,\n",
              "        5.05,  5.  ,  4.95,  4.9 ,  4.85,  4.8 ,  4.75,  4.7 ,  4.65,\n",
              "        4.6 ,  4.55,  4.5 ,  4.45,  4.4 ,  4.35,  4.3 ,  4.25,  4.2 ,\n",
              "        4.15,  4.1 ,  4.05,  4.  ,  3.95,  3.9 ,  3.85,  3.8 ,  3.75,\n",
              "        3.7 ,  3.65,  3.6 ,  3.55,  3.5 ,  3.45,  3.4 ,  3.35,  3.3 ,\n",
              "        3.25,  3.2 ,  3.15,  3.1 ,  3.05,  3.  ,  2.95,  2.9 ,  2.85,\n",
              "        2.8 ,  2.75,  2.7 ,  2.65,  2.6 ,  2.55,  2.5 ,  2.45,  2.4 ,\n",
              "        2.35,  2.3 ,  2.25,  2.2 ,  2.15,  2.1 ,  2.05,  2.  ,  1.95,\n",
              "        1.9 ,  1.85,  1.8 ,  1.75,  1.7 ,  1.65,  1.6 ,  1.55,  1.5 ,\n",
              "        1.45,  1.4 ,  1.35,  1.3 ,  1.25,  1.2 ,  1.15,  1.1 ,  1.05])"
            ]
          },
          "metadata": {
            "tags": []
          },
          "execution_count": 14
        }
      ]
    },
    {
      "cell_type": "code",
      "metadata": {
        "colab": {
          "base_uri": "https://localhost:8080/"
        },
        "id": "OPQzdeEaTZm_",
        "outputId": "66047f59-a034-4541-db61-6d168c5d75d9"
      },
      "source": [
        "x = np.linspace(start=10, stop=1, num=10)\n",
        "x"
      ],
      "execution_count": 15,
      "outputs": [
        {
          "output_type": "execute_result",
          "data": {
            "text/plain": [
              "array([10.,  9.,  8.,  7.,  6.,  5.,  4.,  3.,  2.,  1.])"
            ]
          },
          "metadata": {
            "tags": []
          },
          "execution_count": 15
        }
      ]
    },
    {
      "cell_type": "markdown",
      "metadata": {
        "id": "sLnxqk3KFDC5"
      },
      "source": [
        "**Zmiana rozmiaru tablicy**\r\n",
        "---\r\n",
        "wartosc '-1' oznacza, że Python ma domyślnie dobrać drugi rozmiar tablicy"
      ]
    },
    {
      "cell_type": "code",
      "metadata": {
        "colab": {
          "base_uri": "https://localhost:8080/"
        },
        "id": "Qa0sJ__2TsQH",
        "outputId": "66fdeb0a-522e-4968-f597-921c29cf9ad8"
      },
      "source": [
        "x.reshape((-1,2))"
      ],
      "execution_count": 16,
      "outputs": [
        {
          "output_type": "execute_result",
          "data": {
            "text/plain": [
              "array([[10.,  9.],\n",
              "       [ 8.,  7.],\n",
              "       [ 6.,  5.],\n",
              "       [ 4.,  3.],\n",
              "       [ 2.,  1.]])"
            ]
          },
          "metadata": {
            "tags": []
          },
          "execution_count": 16
        }
      ]
    },
    {
      "cell_type": "markdown",
      "metadata": {
        "id": "qz58TR2mGMuX"
      },
      "source": [
        "**Generowanie liczb pseudolosowych**"
      ]
    },
    {
      "cell_type": "code",
      "metadata": {
        "id": "xMiTtjpqHai1"
      },
      "source": [
        "np.random.seed(0)"
      ],
      "execution_count": 17,
      "outputs": []
    },
    {
      "cell_type": "code",
      "metadata": {
        "id": "_S9rN7kjUha7",
        "colab": {
          "base_uri": "https://localhost:8080/"
        },
        "outputId": "d13aaa10-4c72-4729-ca51-020b3c3f6495"
      },
      "source": [
        "np.random.randn(4,5)"
      ],
      "execution_count": 18,
      "outputs": [
        {
          "output_type": "execute_result",
          "data": {
            "text/plain": [
              "array([[ 1.76405235,  0.40015721,  0.97873798,  2.2408932 ,  1.86755799],\n",
              "       [-0.97727788,  0.95008842, -0.15135721, -0.10321885,  0.4105985 ],\n",
              "       [ 0.14404357,  1.45427351,  0.76103773,  0.12167502,  0.44386323],\n",
              "       [ 0.33367433,  1.49407907, -0.20515826,  0.3130677 , -0.85409574]])"
            ]
          },
          "metadata": {
            "tags": []
          },
          "execution_count": 18
        }
      ]
    },
    {
      "cell_type": "code",
      "metadata": {
        "colab": {
          "base_uri": "https://localhost:8080/"
        },
        "id": "zr861wS_Gf42",
        "outputId": "452e0e6a-1310-4960-bfa1-04338d2e4c74"
      },
      "source": [
        "np.random.rand(4,5)"
      ],
      "execution_count": 19,
      "outputs": [
        {
          "output_type": "execute_result",
          "data": {
            "text/plain": [
              "array([[0.14335329, 0.94466892, 0.52184832, 0.41466194, 0.26455561],\n",
              "       [0.77423369, 0.45615033, 0.56843395, 0.0187898 , 0.6176355 ],\n",
              "       [0.61209572, 0.616934  , 0.94374808, 0.6818203 , 0.3595079 ],\n",
              "       [0.43703195, 0.6976312 , 0.06022547, 0.66676672, 0.67063787]])"
            ]
          },
          "metadata": {
            "tags": []
          },
          "execution_count": 19
        }
      ]
    },
    {
      "cell_type": "code",
      "metadata": {
        "colab": {
          "base_uri": "https://localhost:8080/"
        },
        "id": "svndv6CSIKmU",
        "outputId": "c8a11507-0f0f-4e48-a998-5271a7ba8669"
      },
      "source": [
        "np.random.randint(low=10, high=80,size=(4,5))"
      ],
      "execution_count": 20,
      "outputs": [
        {
          "output_type": "execute_result",
          "data": {
            "text/plain": [
              "array([[56, 10, 24, 63, 22],\n",
              "       [52, 78, 16, 78, 57],\n",
              "       [13, 62, 25, 30, 68],\n",
              "       [33, 23, 58, 59, 79]])"
            ]
          },
          "metadata": {
            "tags": []
          },
          "execution_count": 20
        }
      ]
    },
    {
      "cell_type": "code",
      "metadata": {
        "colab": {
          "base_uri": "https://localhost:8080/"
        },
        "id": "bCvO9o0BIVnm",
        "outputId": "c7d6470a-5d7d-4b02-8b41-b8beef5bc23d"
      },
      "source": [
        "x=np.arange(4,5,.05)\r\n",
        "np.random.choice(x)"
      ],
      "execution_count": 21,
      "outputs": [
        {
          "output_type": "execute_result",
          "data": {
            "text/plain": [
              "4.449999999999998"
            ]
          },
          "metadata": {
            "tags": []
          },
          "execution_count": 21
        }
      ]
    },
    {
      "cell_type": "code",
      "metadata": {
        "colab": {
          "base_uri": "https://localhost:8080/"
        },
        "id": "fq-PBSNqJW6e",
        "outputId": "df3730b2-d701-4cca-d3dc-3a0f2ef3216e"
      },
      "source": [
        "x"
      ],
      "execution_count": 22,
      "outputs": [
        {
          "output_type": "execute_result",
          "data": {
            "text/plain": [
              "array([4.  , 4.05, 4.1 , 4.15, 4.2 , 4.25, 4.3 , 4.35, 4.4 , 4.45, 4.5 ,\n",
              "       4.55, 4.6 , 4.65, 4.7 , 4.75, 4.8 , 4.85, 4.9 , 4.95])"
            ]
          },
          "metadata": {
            "tags": []
          },
          "execution_count": 22
        }
      ]
    },
    {
      "cell_type": "code",
      "metadata": {
        "colab": {
          "base_uri": "https://localhost:8080/"
        },
        "id": "JIBwLh-gJYte",
        "outputId": "ced6686b-0a10-4fae-fdeb-8cc8282a45db"
      },
      "source": [
        "x.shape"
      ],
      "execution_count": 23,
      "outputs": [
        {
          "output_type": "execute_result",
          "data": {
            "text/plain": [
              "(20,)"
            ]
          },
          "metadata": {
            "tags": []
          },
          "execution_count": 23
        }
      ]
    },
    {
      "cell_type": "code",
      "metadata": {
        "colab": {
          "base_uri": "https://localhost:8080/"
        },
        "id": "__qUeRr2JjnC",
        "outputId": "b706adb8-341e-471f-ab73-1146c046eb7a"
      },
      "source": [
        "np.random.shuffle(x)\r\n",
        "x"
      ],
      "execution_count": 24,
      "outputs": [
        {
          "output_type": "execute_result",
          "data": {
            "text/plain": [
              "array([4.65, 4.3 , 4.5 , 4.45, 4.4 , 4.75, 4.85, 4.35, 4.55, 4.6 , 4.95,\n",
              "       4.8 , 4.7 , 4.2 , 4.1 , 4.05, 4.9 , 4.25, 4.  , 4.15])"
            ]
          },
          "metadata": {
            "tags": []
          },
          "execution_count": 24
        }
      ]
    },
    {
      "cell_type": "markdown",
      "metadata": {
        "id": "bRrss2teJxPJ"
      },
      "source": [
        "# **Podstawowe funkcje**"
      ]
    },
    {
      "cell_type": "code",
      "metadata": {
        "colab": {
          "base_uri": "https://localhost:8080/"
        },
        "id": "KRvAcXUVJtds",
        "outputId": "632c7492-856d-443d-8df0-dc1b7c9d3e4c"
      },
      "source": [
        "np.exp(1)"
      ],
      "execution_count": 25,
      "outputs": [
        {
          "output_type": "execute_result",
          "data": {
            "text/plain": [
              "2.718281828459045"
            ]
          },
          "metadata": {
            "tags": []
          },
          "execution_count": 25
        }
      ]
    },
    {
      "cell_type": "code",
      "metadata": {
        "colab": {
          "base_uri": "https://localhost:8080/"
        },
        "id": "mLS9kx0hJ-Q5",
        "outputId": "54dbf259-cf0a-4ade-c172-e8300cbdf0c2"
      },
      "source": [
        "np.sqrt(20)"
      ],
      "execution_count": 26,
      "outputs": [
        {
          "output_type": "execute_result",
          "data": {
            "text/plain": [
              "4.47213595499958"
            ]
          },
          "metadata": {
            "tags": []
          },
          "execution_count": 26
        }
      ]
    },
    {
      "cell_type": "code",
      "metadata": {
        "colab": {
          "base_uri": "https://localhost:8080/"
        },
        "id": "hfLtk5kDKIIJ",
        "outputId": "7eefcee4-48ee-4da0-a35f-0da5264d156f"
      },
      "source": [
        "np.all([0,1,3,4,5])"
      ],
      "execution_count": 27,
      "outputs": [
        {
          "output_type": "execute_result",
          "data": {
            "text/plain": [
              "False"
            ]
          },
          "metadata": {
            "tags": []
          },
          "execution_count": 27
        }
      ]
    },
    {
      "cell_type": "code",
      "metadata": {
        "colab": {
          "base_uri": "https://localhost:8080/"
        },
        "id": "q3k-eVCsKQkd",
        "outputId": "d67ebbe4-979b-4a4b-98ad-f0dc2e633b58"
      },
      "source": [
        "np.any([1,2,3,4,5,6])"
      ],
      "execution_count": 28,
      "outputs": [
        {
          "output_type": "execute_result",
          "data": {
            "text/plain": [
              "True"
            ]
          },
          "metadata": {
            "tags": []
          },
          "execution_count": 28
        }
      ]
    },
    {
      "cell_type": "code",
      "metadata": {
        "colab": {
          "base_uri": "https://localhost:8080/"
        },
        "id": "8SLEXUZwKjPX",
        "outputId": "ad489060-e0d8-43b2-bffd-14dc3d828414"
      },
      "source": [
        "bool(0.2)"
      ],
      "execution_count": 29,
      "outputs": [
        {
          "output_type": "execute_result",
          "data": {
            "text/plain": [
              "True"
            ]
          },
          "metadata": {
            "tags": []
          },
          "execution_count": 29
        }
      ]
    },
    {
      "cell_type": "code",
      "metadata": {
        "colab": {
          "base_uri": "https://localhost:8080/"
        },
        "id": "NTqA8lXdKoEb",
        "outputId": "890ffea2-34a8-41c3-f061-66f9ec2896d2"
      },
      "source": [
        "A=np.random.rand(10)\r\n",
        "A"
      ],
      "execution_count": 30,
      "outputs": [
        {
          "output_type": "execute_result",
          "data": {
            "text/plain": [
              "array([0.12019656, 0.2961402 , 0.11872772, 0.31798318, 0.41426299,\n",
              "       0.0641475 , 0.69247212, 0.56660145, 0.26538949, 0.52324805])"
            ]
          },
          "metadata": {
            "tags": []
          },
          "execution_count": 30
        }
      ]
    },
    {
      "cell_type": "code",
      "metadata": {
        "colab": {
          "base_uri": "https://localhost:8080/"
        },
        "id": "616JvBHJKyU5",
        "outputId": "b51598ee-1915-4baa-f6dd-a0259d0ed554"
      },
      "source": [
        "np.argmax(A)"
      ],
      "execution_count": 31,
      "outputs": [
        {
          "output_type": "execute_result",
          "data": {
            "text/plain": [
              "6"
            ]
          },
          "metadata": {
            "tags": []
          },
          "execution_count": 31
        }
      ]
    },
    {
      "cell_type": "code",
      "metadata": {
        "colab": {
          "base_uri": "https://localhost:8080/"
        },
        "id": "YQ0eyo7JLB9e",
        "outputId": "c2b25e45-1fa7-4ae4-e333-da0b150bd6ea"
      },
      "source": [
        "np.argsort(A)"
      ],
      "execution_count": 32,
      "outputs": [
        {
          "output_type": "execute_result",
          "data": {
            "text/plain": [
              "array([5, 2, 0, 8, 1, 3, 4, 9, 7, 6])"
            ]
          },
          "metadata": {
            "tags": []
          },
          "execution_count": 32
        }
      ]
    },
    {
      "cell_type": "code",
      "metadata": {
        "colab": {
          "base_uri": "https://localhost:8080/"
        },
        "id": "p4K3IinVLVMu",
        "outputId": "23c72f11-515c-46aa-b31a-557e21a211f1"
      },
      "source": [
        "np.median(A)"
      ],
      "execution_count": 33,
      "outputs": [
        {
          "output_type": "execute_result",
          "data": {
            "text/plain": [
              "0.3070616884580605"
            ]
          },
          "metadata": {
            "tags": []
          },
          "execution_count": 33
        }
      ]
    },
    {
      "cell_type": "code",
      "metadata": {
        "colab": {
          "base_uri": "https://localhost:8080/"
        },
        "id": "ymWgyZmvLadd",
        "outputId": "266cdf45-a40e-4d4c-ea70-f5ed98050e83"
      },
      "source": [
        "np.max(A)"
      ],
      "execution_count": 34,
      "outputs": [
        {
          "output_type": "execute_result",
          "data": {
            "text/plain": [
              "0.6924721193700198"
            ]
          },
          "metadata": {
            "tags": []
          },
          "execution_count": 34
        }
      ]
    },
    {
      "cell_type": "markdown",
      "metadata": {
        "id": "YVofFQTVLl58"
      },
      "source": [
        "## **Indeksowanie i wycinanie danych**"
      ]
    },
    {
      "cell_type": "code",
      "metadata": {
        "colab": {
          "base_uri": "https://localhost:8080/"
        },
        "id": "e8qrZOKILwnB",
        "outputId": "4d86f3c9-2ffd-4fc0-c7a8-4b1bfb57b278"
      },
      "source": [
        "A"
      ],
      "execution_count": 35,
      "outputs": [
        {
          "output_type": "execute_result",
          "data": {
            "text/plain": [
              "array([0.12019656, 0.2961402 , 0.11872772, 0.31798318, 0.41426299,\n",
              "       0.0641475 , 0.69247212, 0.56660145, 0.26538949, 0.52324805])"
            ]
          },
          "metadata": {
            "tags": []
          },
          "execution_count": 35
        }
      ]
    },
    {
      "cell_type": "code",
      "metadata": {
        "colab": {
          "base_uri": "https://localhost:8080/"
        },
        "id": "LyPkxca4MVyj",
        "outputId": "6a74e828-fafe-49c0-98fd-c3bbc0190b1d"
      },
      "source": [
        "A[2:]"
      ],
      "execution_count": 36,
      "outputs": [
        {
          "output_type": "execute_result",
          "data": {
            "text/plain": [
              "array([0.11872772, 0.31798318, 0.41426299, 0.0641475 , 0.69247212,\n",
              "       0.56660145, 0.26538949, 0.52324805])"
            ]
          },
          "metadata": {
            "tags": []
          },
          "execution_count": 36
        }
      ]
    },
    {
      "cell_type": "code",
      "metadata": {
        "colab": {
          "base_uri": "https://localhost:8080/"
        },
        "id": "ZvO9JxPYMcaT",
        "outputId": "bdf7006d-816a-41c3-9e14-c65da7063518"
      },
      "source": [
        "A[-2:]"
      ],
      "execution_count": 37,
      "outputs": [
        {
          "output_type": "execute_result",
          "data": {
            "text/plain": [
              "array([0.26538949, 0.52324805])"
            ]
          },
          "metadata": {
            "tags": []
          },
          "execution_count": 37
        }
      ]
    },
    {
      "cell_type": "code",
      "metadata": {
        "colab": {
          "base_uri": "https://localhost:8080/"
        },
        "id": "fTnPMzM8MhXa",
        "outputId": "52fd1c59-3952-4e18-adcd-7de09ebd788e"
      },
      "source": [
        "B = A[-2:]\r\n",
        "A"
      ],
      "execution_count": 38,
      "outputs": [
        {
          "output_type": "execute_result",
          "data": {
            "text/plain": [
              "array([0.12019656, 0.2961402 , 0.11872772, 0.31798318, 0.41426299,\n",
              "       0.0641475 , 0.69247212, 0.56660145, 0.26538949, 0.52324805])"
            ]
          },
          "metadata": {
            "tags": []
          },
          "execution_count": 38
        }
      ]
    },
    {
      "cell_type": "code",
      "metadata": {
        "colab": {
          "base_uri": "https://localhost:8080/"
        },
        "id": "jrt4c4eRNN98",
        "outputId": "1280728c-5c9e-4d32-e9c2-ac14e6853cc2"
      },
      "source": [
        "B"
      ],
      "execution_count": 39,
      "outputs": [
        {
          "output_type": "execute_result",
          "data": {
            "text/plain": [
              "array([0.26538949, 0.52324805])"
            ]
          },
          "metadata": {
            "tags": []
          },
          "execution_count": 39
        }
      ]
    },
    {
      "cell_type": "code",
      "metadata": {
        "colab": {
          "base_uri": "https://localhost:8080/"
        },
        "id": "TVfZnYWSNq_c",
        "outputId": "4d2741ce-1328-40e0-bcca-74fbd72e2ad5"
      },
      "source": [
        "A = np.random.randint(low=1, high=100, size=(4,5))\r\n",
        "A"
      ],
      "execution_count": 40,
      "outputs": [
        {
          "output_type": "execute_result",
          "data": {
            "text/plain": [
              "array([[42, 59, 66, 37, 11],\n",
              "       [87, 44, 12,  3, 52],\n",
              "       [81, 33, 55,  1, 39],\n",
              "       [20, 47, 43, 57, 61]])"
            ]
          },
          "metadata": {
            "tags": []
          },
          "execution_count": 40
        }
      ]
    },
    {
      "cell_type": "code",
      "metadata": {
        "colab": {
          "base_uri": "https://localhost:8080/"
        },
        "id": "3Rc3unqjNPtr",
        "outputId": "26d0c3ff-9397-4ee8-c15f-03b70a6a5012"
      },
      "source": [
        "A[1:3,-2:]"
      ],
      "execution_count": 41,
      "outputs": [
        {
          "output_type": "execute_result",
          "data": {
            "text/plain": [
              "array([[ 3, 52],\n",
              "       [ 1, 39]])"
            ]
          },
          "metadata": {
            "tags": []
          },
          "execution_count": 41
        }
      ]
    },
    {
      "cell_type": "markdown",
      "metadata": {
        "id": "ZBeZOhkOOeHL"
      },
      "source": [
        "**Iteracja po tablicy**"
      ]
    },
    {
      "cell_type": "code",
      "metadata": {
        "colab": {
          "base_uri": "https://localhost:8080/"
        },
        "id": "ayhT__sEOkNC",
        "outputId": "4765a858-dc79-4485-bc92-88fe64834c75"
      },
      "source": [
        "A = np.random.randint(low=1, high=100, size=(4,6))\r\n",
        "A"
      ],
      "execution_count": 46,
      "outputs": [
        {
          "output_type": "execute_result",
          "data": {
            "text/plain": [
              "array([[ 5, 68, 12, 87, 78, 76],\n",
              "       [57, 17, 25, 30, 22, 26],\n",
              "       [81, 61, 62, 84, 34, 33],\n",
              "       [71, 86, 32, 14, 72, 57]])"
            ]
          },
          "metadata": {
            "tags": []
          },
          "execution_count": 46
        }
      ]
    },
    {
      "cell_type": "code",
      "metadata": {
        "colab": {
          "base_uri": "https://localhost:8080/"
        },
        "id": "O2y4tkCnNie6",
        "outputId": "37297c46-ec01-421a-ac09-7f599dea9973"
      },
      "source": [
        "np.ravel(A)"
      ],
      "execution_count": 47,
      "outputs": [
        {
          "output_type": "execute_result",
          "data": {
            "text/plain": [
              "array([ 5, 68, 12, 87, 78, 76, 57, 17, 25, 30, 22, 26, 81, 61, 62, 84, 34,\n",
              "       33, 71, 86, 32, 14, 72, 57])"
            ]
          },
          "metadata": {
            "tags": []
          },
          "execution_count": 47
        }
      ]
    },
    {
      "cell_type": "code",
      "metadata": {
        "colab": {
          "base_uri": "https://localhost:8080/"
        },
        "id": "P0-7wIu-RAeO",
        "outputId": "1b895235-2eae-4834-bc1f-5b6cf4bd5ccc"
      },
      "source": [
        "A.T"
      ],
      "execution_count": 48,
      "outputs": [
        {
          "output_type": "execute_result",
          "data": {
            "text/plain": [
              "array([[ 5, 57, 81, 71],\n",
              "       [68, 17, 61, 86],\n",
              "       [12, 25, 62, 32],\n",
              "       [87, 30, 84, 14],\n",
              "       [78, 22, 34, 72],\n",
              "       [76, 26, 33, 57]])"
            ]
          },
          "metadata": {
            "tags": []
          },
          "execution_count": 48
        }
      ]
    },
    {
      "cell_type": "code",
      "metadata": {
        "colab": {
          "base_uri": "https://localhost:8080/"
        },
        "id": "7LjzY_4aRCu0",
        "outputId": "8d28b702-482e-44bd-df11-2bf77d6fe1fa"
      },
      "source": [
        "A>50"
      ],
      "execution_count": 50,
      "outputs": [
        {
          "output_type": "execute_result",
          "data": {
            "text/plain": [
              "array([[False,  True, False,  True,  True,  True],\n",
              "       [ True, False, False, False, False, False],\n",
              "       [ True,  True,  True,  True, False, False],\n",
              "       [ True,  True, False, False,  True,  True]])"
            ]
          },
          "metadata": {
            "tags": []
          },
          "execution_count": 50
        }
      ]
    },
    {
      "cell_type": "code",
      "metadata": {
        "colab": {
          "base_uri": "https://localhost:8080/"
        },
        "id": "r5i_2RAeRyKY",
        "outputId": "34b6b9af-55c9-4ffa-c30b-666737d25815"
      },
      "source": [
        "A[A>50]"
      ],
      "execution_count": 51,
      "outputs": [
        {
          "output_type": "execute_result",
          "data": {
            "text/plain": [
              "array([68, 87, 78, 76, 57, 81, 61, 62, 84, 71, 86, 72, 57])"
            ]
          },
          "metadata": {
            "tags": []
          },
          "execution_count": 51
        }
      ]
    },
    {
      "cell_type": "code",
      "metadata": {
        "colab": {
          "base_uri": "https://localhost:8080/"
        },
        "id": "53q11a5BR6dO",
        "outputId": "0fe39d14-7c6f-4bd2-8792-da3d4075c947"
      },
      "source": [
        "A"
      ],
      "execution_count": 52,
      "outputs": [
        {
          "output_type": "execute_result",
          "data": {
            "text/plain": [
              "array([[ 5, 68, 12, 87, 78, 76],\n",
              "       [57, 17, 25, 30, 22, 26],\n",
              "       [81, 61, 62, 84, 34, 33],\n",
              "       [71, 86, 32, 14, 72, 57]])"
            ]
          },
          "metadata": {
            "tags": []
          },
          "execution_count": 52
        }
      ]
    },
    {
      "cell_type": "code",
      "metadata": {
        "colab": {
          "base_uri": "https://localhost:8080/"
        },
        "id": "m7C-8RVNSA39",
        "outputId": "a984a12b-9f0b-410e-9a46-8d262c4ad586"
      },
      "source": [
        "np.bitwise_and(A>60, A<80)"
      ],
      "execution_count": 54,
      "outputs": [
        {
          "output_type": "execute_result",
          "data": {
            "text/plain": [
              "array([[False,  True, False, False,  True,  True],\n",
              "       [False, False, False, False, False, False],\n",
              "       [False,  True,  True, False, False, False],\n",
              "       [ True, False, False, False,  True, False]])"
            ]
          },
          "metadata": {
            "tags": []
          },
          "execution_count": 54
        }
      ]
    },
    {
      "cell_type": "code",
      "metadata": {
        "colab": {
          "base_uri": "https://localhost:8080/"
        },
        "id": "YCN4q3rJSY4B",
        "outputId": "fafedfd8-6dce-4d39-f171-6ce62a9fcc2a"
      },
      "source": [
        "A[np.bitwise_and(A>60, A<80)]"
      ],
      "execution_count": 55,
      "outputs": [
        {
          "output_type": "execute_result",
          "data": {
            "text/plain": [
              "array([68, 78, 76, 61, 62, 71, 72])"
            ]
          },
          "metadata": {
            "tags": []
          },
          "execution_count": 55
        }
      ]
    },
    {
      "cell_type": "code",
      "metadata": {
        "id": "VwbXFt_ySvZW"
      },
      "source": [
        ""
      ],
      "execution_count": null,
      "outputs": []
    }
  ]
}