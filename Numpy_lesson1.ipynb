{
  "nbformat": 4,
  "nbformat_minor": 0,
  "metadata": {
    "colab": {
      "name": "Numpy_lesson1.ipynb",
      "provenance": [],
      "collapsed_sections": [],
      "authorship_tag": "ABX9TyNCriFNyOt11cqCKJnts3Lc",
      "include_colab_link": true
    },
    "kernelspec": {
      "name": "python3",
      "display_name": "Python 3"
    }
  },
  "cells": [
    {
      "cell_type": "markdown",
      "metadata": {
        "id": "view-in-github",
        "colab_type": "text"
      },
      "source": [
        "<a href=\"https://colab.research.google.com/github/Tymo-8/hello-world/blob/main/Numpy_lesson1.ipynb\" target=\"_parent\"><img src=\"https://colab.research.google.com/assets/colab-badge.svg\" alt=\"Open In Colab\"/></a>"
      ]
    },
    {
      "cell_type": "code",
      "metadata": {
        "id": "SXsdnAl_K_g5"
      },
      "source": [
        "import numpy as np"
      ],
      "execution_count": 1,
      "outputs": []
    },
    {
      "cell_type": "code",
      "metadata": {
        "id": "6zN5XDT7LC9d",
        "colab": {
          "base_uri": "https://localhost:8080/"
        },
        "outputId": "eae67c3d-1c42-47e2-ab0f-c4bd62f0c295"
      },
      "source": [
        "help(np.arange)"
      ],
      "execution_count": 3,
      "outputs": [
        {
          "output_type": "stream",
          "text": [
            "Help on built-in function arange in module numpy:\n",
            "\n",
            "arange(...)\n",
            "    arange([start,] stop[, step,], dtype=None)\n",
            "    \n",
            "    Return evenly spaced values within a given interval.\n",
            "    \n",
            "    Values are generated within the half-open interval ``[start, stop)``\n",
            "    (in other words, the interval including `start` but excluding `stop`).\n",
            "    For integer arguments the function is equivalent to the Python built-in\n",
            "    `range` function, but returns an ndarray rather than a list.\n",
            "    \n",
            "    When using a non-integer step, such as 0.1, the results will often not\n",
            "    be consistent.  It is better to use `numpy.linspace` for these cases.\n",
            "    \n",
            "    Parameters\n",
            "    ----------\n",
            "    start : number, optional\n",
            "        Start of interval.  The interval includes this value.  The default\n",
            "        start value is 0.\n",
            "    stop : number\n",
            "        End of interval.  The interval does not include this value, except\n",
            "        in some cases where `step` is not an integer and floating point\n",
            "        round-off affects the length of `out`.\n",
            "    step : number, optional\n",
            "        Spacing between values.  For any output `out`, this is the distance\n",
            "        between two adjacent values, ``out[i+1] - out[i]``.  The default\n",
            "        step size is 1.  If `step` is specified as a position argument,\n",
            "        `start` must also be given.\n",
            "    dtype : dtype\n",
            "        The type of the output array.  If `dtype` is not given, infer the data\n",
            "        type from the other input arguments.\n",
            "    \n",
            "    Returns\n",
            "    -------\n",
            "    arange : ndarray\n",
            "        Array of evenly spaced values.\n",
            "    \n",
            "        For floating point arguments, the length of the result is\n",
            "        ``ceil((stop - start)/step)``.  Because of floating point overflow,\n",
            "        this rule may result in the last element of `out` being greater\n",
            "        than `stop`.\n",
            "    \n",
            "    See Also\n",
            "    --------\n",
            "    numpy.linspace : Evenly spaced numbers with careful handling of endpoints.\n",
            "    numpy.ogrid: Arrays of evenly spaced numbers in N-dimensions.\n",
            "    numpy.mgrid: Grid-shaped arrays of evenly spaced numbers in N-dimensions.\n",
            "    \n",
            "    Examples\n",
            "    --------\n",
            "    >>> np.arange(3)\n",
            "    array([0, 1, 2])\n",
            "    >>> np.arange(3.0)\n",
            "    array([ 0.,  1.,  2.])\n",
            "    >>> np.arange(3,7)\n",
            "    array([3, 4, 5, 6])\n",
            "    >>> np.arange(3,7,2)\n",
            "    array([3, 5])\n",
            "\n"
          ],
          "name": "stdout"
        }
      ]
    },
    {
      "cell_type": "code",
      "metadata": {
        "id": "Xn5V7L4iL2gp"
      },
      "source": [
        "x=np.array([1,2,3,4,5,6])"
      ],
      "execution_count": 4,
      "outputs": []
    },
    {
      "cell_type": "markdown",
      "metadata": {
        "id": "KDv1_LX5RvaG"
      },
      "source": [
        "# **Properties of 'np.array'**"
      ]
    },
    {
      "cell_type": "code",
      "metadata": {
        "colab": {
          "base_uri": "https://localhost:8080/"
        },
        "id": "ghekvn55MQgc",
        "outputId": "90dfde27-87b7-4499-dd55-6f0f4b35e853"
      },
      "source": [
        "x.argmax()"
      ],
      "execution_count": 5,
      "outputs": [
        {
          "output_type": "execute_result",
          "data": {
            "text/plain": [
              "5"
            ]
          },
          "metadata": {
            "tags": []
          },
          "execution_count": 5
        }
      ]
    },
    {
      "cell_type": "code",
      "metadata": {
        "colab": {
          "base_uri": "https://localhost:8080/"
        },
        "id": "oSrIyrTqMTLy",
        "outputId": "979fcdfb-a824-414d-9c4b-d15f8c11e70c"
      },
      "source": [
        "x.dtype"
      ],
      "execution_count": 6,
      "outputs": [
        {
          "output_type": "execute_result",
          "data": {
            "text/plain": [
              "dtype('int64')"
            ]
          },
          "metadata": {
            "tags": []
          },
          "execution_count": 6
        }
      ]
    },
    {
      "cell_type": "code",
      "metadata": {
        "colab": {
          "base_uri": "https://localhost:8080/"
        },
        "id": "BhkDLcoAMatR",
        "outputId": "b5ff10d1-44ce-4ba7-f657-c2a2e63a885b"
      },
      "source": [
        "x.shape"
      ],
      "execution_count": 7,
      "outputs": [
        {
          "output_type": "execute_result",
          "data": {
            "text/plain": [
              "(6,)"
            ]
          },
          "metadata": {
            "tags": []
          },
          "execution_count": 7
        }
      ]
    },
    {
      "cell_type": "code",
      "metadata": {
        "id": "LJTmrDwuMh9R"
      },
      "source": [
        "x = x.reshape(2,3)"
      ],
      "execution_count": 8,
      "outputs": []
    },
    {
      "cell_type": "code",
      "metadata": {
        "colab": {
          "base_uri": "https://localhost:8080/"
        },
        "id": "IcGMSEmkMl5s",
        "outputId": "a262e737-b4c9-4608-8445-33dbe56526da"
      },
      "source": [
        "x.ndim"
      ],
      "execution_count": 9,
      "outputs": [
        {
          "output_type": "execute_result",
          "data": {
            "text/plain": [
              "2"
            ]
          },
          "metadata": {
            "tags": []
          },
          "execution_count": 9
        }
      ]
    },
    {
      "cell_type": "code",
      "metadata": {
        "colab": {
          "base_uri": "https://localhost:8080/"
        },
        "id": "8pncuKiYNRzV",
        "outputId": "c0b916e9-ea63-4c80-c6f9-e4f40a33b99e"
      },
      "source": [
        "x.shape"
      ],
      "execution_count": 10,
      "outputs": [
        {
          "output_type": "execute_result",
          "data": {
            "text/plain": [
              "(2, 3)"
            ]
          },
          "metadata": {
            "tags": []
          },
          "execution_count": 10
        }
      ]
    },
    {
      "cell_type": "code",
      "metadata": {
        "id": "dmfSk8jEN4wB"
      },
      "source": [
        "x = np.array([[1.2,3,4.,3.2],[1.3,4.5,6.2,3]],dtype='float')"
      ],
      "execution_count": 11,
      "outputs": []
    },
    {
      "cell_type": "code",
      "metadata": {
        "colab": {
          "base_uri": "https://localhost:8080/"
        },
        "id": "m0ZAbkeAPhWK",
        "outputId": "ac686aa3-1e18-43cf-e7a5-4039588c6dc3"
      },
      "source": [
        "x.dtype"
      ],
      "execution_count": 12,
      "outputs": [
        {
          "output_type": "execute_result",
          "data": {
            "text/plain": [
              "dtype('float64')"
            ]
          },
          "metadata": {
            "tags": []
          },
          "execution_count": 12
        }
      ]
    },
    {
      "cell_type": "markdown",
      "metadata": {
        "id": "OUxcWnASQo5R"
      },
      "source": [
        "# **Generation of arrays**"
      ]
    },
    {
      "cell_type": "code",
      "metadata": {
        "colab": {
          "base_uri": "https://localhost:8080/"
        },
        "id": "o6pEBvw8Qwds",
        "outputId": "75d968f1-28b3-4327-a01b-168aab57cc73"
      },
      "source": [
        "x= np.zeros(shape=(2,6))\n",
        "print(x)"
      ],
      "execution_count": 13,
      "outputs": [
        {
          "output_type": "stream",
          "text": [
            "[[0. 0. 0. 0. 0. 0.]\n",
            " [0. 0. 0. 0. 0. 0.]]\n"
          ],
          "name": "stdout"
        }
      ]
    },
    {
      "cell_type": "code",
      "metadata": {
        "colab": {
          "base_uri": "https://localhost:8080/"
        },
        "id": "X6im26kJQ4qE",
        "outputId": "592c306e-0971-4186-e7d4-6d776760ac74"
      },
      "source": [
        "y=np.ones(shape=(2,4,3), dtype='int')\n",
        "y"
      ],
      "execution_count": 14,
      "outputs": [
        {
          "output_type": "execute_result",
          "data": {
            "text/plain": [
              "array([[[1, 1, 1],\n",
              "        [1, 1, 1],\n",
              "        [1, 1, 1],\n",
              "        [1, 1, 1]],\n",
              "\n",
              "       [[1, 1, 1],\n",
              "        [1, 1, 1],\n",
              "        [1, 1, 1],\n",
              "        [1, 1, 1]]])"
            ]
          },
          "metadata": {
            "tags": []
          },
          "execution_count": 14
        }
      ]
    },
    {
      "cell_type": "code",
      "metadata": {
        "colab": {
          "base_uri": "https://localhost:8080/"
        },
        "id": "XS4XdD_oRYkT",
        "outputId": "bc45136b-48ab-47bc-d9ec-7b9e3c7cf85a"
      },
      "source": [
        "x = np.arange(10,1, -0.05)\n",
        "x"
      ],
      "execution_count": 15,
      "outputs": [
        {
          "output_type": "execute_result",
          "data": {
            "text/plain": [
              "array([10.  ,  9.95,  9.9 ,  9.85,  9.8 ,  9.75,  9.7 ,  9.65,  9.6 ,\n",
              "        9.55,  9.5 ,  9.45,  9.4 ,  9.35,  9.3 ,  9.25,  9.2 ,  9.15,\n",
              "        9.1 ,  9.05,  9.  ,  8.95,  8.9 ,  8.85,  8.8 ,  8.75,  8.7 ,\n",
              "        8.65,  8.6 ,  8.55,  8.5 ,  8.45,  8.4 ,  8.35,  8.3 ,  8.25,\n",
              "        8.2 ,  8.15,  8.1 ,  8.05,  8.  ,  7.95,  7.9 ,  7.85,  7.8 ,\n",
              "        7.75,  7.7 ,  7.65,  7.6 ,  7.55,  7.5 ,  7.45,  7.4 ,  7.35,\n",
              "        7.3 ,  7.25,  7.2 ,  7.15,  7.1 ,  7.05,  7.  ,  6.95,  6.9 ,\n",
              "        6.85,  6.8 ,  6.75,  6.7 ,  6.65,  6.6 ,  6.55,  6.5 ,  6.45,\n",
              "        6.4 ,  6.35,  6.3 ,  6.25,  6.2 ,  6.15,  6.1 ,  6.05,  6.  ,\n",
              "        5.95,  5.9 ,  5.85,  5.8 ,  5.75,  5.7 ,  5.65,  5.6 ,  5.55,\n",
              "        5.5 ,  5.45,  5.4 ,  5.35,  5.3 ,  5.25,  5.2 ,  5.15,  5.1 ,\n",
              "        5.05,  5.  ,  4.95,  4.9 ,  4.85,  4.8 ,  4.75,  4.7 ,  4.65,\n",
              "        4.6 ,  4.55,  4.5 ,  4.45,  4.4 ,  4.35,  4.3 ,  4.25,  4.2 ,\n",
              "        4.15,  4.1 ,  4.05,  4.  ,  3.95,  3.9 ,  3.85,  3.8 ,  3.75,\n",
              "        3.7 ,  3.65,  3.6 ,  3.55,  3.5 ,  3.45,  3.4 ,  3.35,  3.3 ,\n",
              "        3.25,  3.2 ,  3.15,  3.1 ,  3.05,  3.  ,  2.95,  2.9 ,  2.85,\n",
              "        2.8 ,  2.75,  2.7 ,  2.65,  2.6 ,  2.55,  2.5 ,  2.45,  2.4 ,\n",
              "        2.35,  2.3 ,  2.25,  2.2 ,  2.15,  2.1 ,  2.05,  2.  ,  1.95,\n",
              "        1.9 ,  1.85,  1.8 ,  1.75,  1.7 ,  1.65,  1.6 ,  1.55,  1.5 ,\n",
              "        1.45,  1.4 ,  1.35,  1.3 ,  1.25,  1.2 ,  1.15,  1.1 ,  1.05])"
            ]
          },
          "metadata": {
            "tags": []
          },
          "execution_count": 15
        }
      ]
    },
    {
      "cell_type": "code",
      "metadata": {
        "colab": {
          "base_uri": "https://localhost:8080/"
        },
        "id": "OPQzdeEaTZm_",
        "outputId": "7c30c0d9-3842-4eb3-a284-1eb3e40bf347"
      },
      "source": [
        "x = np.linspace(start=10, stop=1, num=10)\n",
        "x"
      ],
      "execution_count": 16,
      "outputs": [
        {
          "output_type": "execute_result",
          "data": {
            "text/plain": [
              "array([10.,  9.,  8.,  7.,  6.,  5.,  4.,  3.,  2.,  1.])"
            ]
          },
          "metadata": {
            "tags": []
          },
          "execution_count": 16
        }
      ]
    },
    {
      "cell_type": "markdown",
      "metadata": {
        "id": "sLnxqk3KFDC5"
      },
      "source": [
        "# **Change of array size**"
      ]
    },
    {
      "cell_type": "code",
      "metadata": {
        "colab": {
          "base_uri": "https://localhost:8080/"
        },
        "id": "Qa0sJ__2TsQH",
        "outputId": "bdd7961c-79f5-4bfa-9978-8877f6ac5896"
      },
      "source": [
        "x.reshape((-1,2))"
      ],
      "execution_count": 17,
      "outputs": [
        {
          "output_type": "execute_result",
          "data": {
            "text/plain": [
              "array([[10.,  9.],\n",
              "       [ 8.,  7.],\n",
              "       [ 6.,  5.],\n",
              "       [ 4.,  3.],\n",
              "       [ 2.,  1.]])"
            ]
          },
          "metadata": {
            "tags": []
          },
          "execution_count": 17
        }
      ]
    },
    {
      "cell_type": "markdown",
      "metadata": {
        "id": "qz58TR2mGMuX"
      },
      "source": [
        "# **Random numbers**"
      ]
    },
    {
      "cell_type": "code",
      "metadata": {
        "id": "xMiTtjpqHai1"
      },
      "source": [
        "np.random.seed(0)"
      ],
      "execution_count": 18,
      "outputs": []
    },
    {
      "cell_type": "code",
      "metadata": {
        "id": "_S9rN7kjUha7",
        "colab": {
          "base_uri": "https://localhost:8080/"
        },
        "outputId": "2c8b6b7e-d0b0-453e-bf9b-bf179d9434ab"
      },
      "source": [
        "np.random.randn(4,5)"
      ],
      "execution_count": 19,
      "outputs": [
        {
          "output_type": "execute_result",
          "data": {
            "text/plain": [
              "array([[ 1.76405235,  0.40015721,  0.97873798,  2.2408932 ,  1.86755799],\n",
              "       [-0.97727788,  0.95008842, -0.15135721, -0.10321885,  0.4105985 ],\n",
              "       [ 0.14404357,  1.45427351,  0.76103773,  0.12167502,  0.44386323],\n",
              "       [ 0.33367433,  1.49407907, -0.20515826,  0.3130677 , -0.85409574]])"
            ]
          },
          "metadata": {
            "tags": []
          },
          "execution_count": 19
        }
      ]
    },
    {
      "cell_type": "code",
      "metadata": {
        "colab": {
          "base_uri": "https://localhost:8080/"
        },
        "id": "zr861wS_Gf42",
        "outputId": "b76c3018-bdab-4011-d0e6-526c286c5844"
      },
      "source": [
        "np.random.rand(4,5)"
      ],
      "execution_count": 20,
      "outputs": [
        {
          "output_type": "execute_result",
          "data": {
            "text/plain": [
              "array([[0.14335329, 0.94466892, 0.52184832, 0.41466194, 0.26455561],\n",
              "       [0.77423369, 0.45615033, 0.56843395, 0.0187898 , 0.6176355 ],\n",
              "       [0.61209572, 0.616934  , 0.94374808, 0.6818203 , 0.3595079 ],\n",
              "       [0.43703195, 0.6976312 , 0.06022547, 0.66676672, 0.67063787]])"
            ]
          },
          "metadata": {
            "tags": []
          },
          "execution_count": 20
        }
      ]
    },
    {
      "cell_type": "code",
      "metadata": {
        "colab": {
          "base_uri": "https://localhost:8080/"
        },
        "id": "svndv6CSIKmU",
        "outputId": "9d2f5bfb-dad4-45ef-9c91-750ffd407152"
      },
      "source": [
        "np.random.randint(low=10, high=80,size=(4,5))"
      ],
      "execution_count": 21,
      "outputs": [
        {
          "output_type": "execute_result",
          "data": {
            "text/plain": [
              "array([[56, 10, 24, 63, 22],\n",
              "       [52, 78, 16, 78, 57],\n",
              "       [13, 62, 25, 30, 68],\n",
              "       [33, 23, 58, 59, 79]])"
            ]
          },
          "metadata": {
            "tags": []
          },
          "execution_count": 21
        }
      ]
    },
    {
      "cell_type": "code",
      "metadata": {
        "colab": {
          "base_uri": "https://localhost:8080/"
        },
        "id": "bCvO9o0BIVnm",
        "outputId": "339c77b7-4a51-429c-febe-28aded431324"
      },
      "source": [
        "x=np.arange(4,5,.05)\r\n",
        "np.random.choice(x)"
      ],
      "execution_count": 22,
      "outputs": [
        {
          "output_type": "execute_result",
          "data": {
            "text/plain": [
              "4.449999999999998"
            ]
          },
          "metadata": {
            "tags": []
          },
          "execution_count": 22
        }
      ]
    },
    {
      "cell_type": "code",
      "metadata": {
        "colab": {
          "base_uri": "https://localhost:8080/"
        },
        "id": "fq-PBSNqJW6e",
        "outputId": "1853a0ea-8e36-411c-e726-e7a0d04ed534"
      },
      "source": [
        "x"
      ],
      "execution_count": 23,
      "outputs": [
        {
          "output_type": "execute_result",
          "data": {
            "text/plain": [
              "array([4.  , 4.05, 4.1 , 4.15, 4.2 , 4.25, 4.3 , 4.35, 4.4 , 4.45, 4.5 ,\n",
              "       4.55, 4.6 , 4.65, 4.7 , 4.75, 4.8 , 4.85, 4.9 , 4.95])"
            ]
          },
          "metadata": {
            "tags": []
          },
          "execution_count": 23
        }
      ]
    },
    {
      "cell_type": "code",
      "metadata": {
        "colab": {
          "base_uri": "https://localhost:8080/"
        },
        "id": "JIBwLh-gJYte",
        "outputId": "ce74c64c-058e-4b17-dc3c-12e33bd4dc71"
      },
      "source": [
        "x.shape"
      ],
      "execution_count": 24,
      "outputs": [
        {
          "output_type": "execute_result",
          "data": {
            "text/plain": [
              "(20,)"
            ]
          },
          "metadata": {
            "tags": []
          },
          "execution_count": 24
        }
      ]
    },
    {
      "cell_type": "code",
      "metadata": {
        "colab": {
          "base_uri": "https://localhost:8080/"
        },
        "id": "__qUeRr2JjnC",
        "outputId": "ee0e83c5-0b09-4d10-c41a-12a392ca973a"
      },
      "source": [
        "np.random.shuffle(x)\r\n",
        "x"
      ],
      "execution_count": 25,
      "outputs": [
        {
          "output_type": "execute_result",
          "data": {
            "text/plain": [
              "array([4.65, 4.3 , 4.5 , 4.45, 4.4 , 4.75, 4.85, 4.35, 4.55, 4.6 , 4.95,\n",
              "       4.8 , 4.7 , 4.2 , 4.1 , 4.05, 4.9 , 4.25, 4.  , 4.15])"
            ]
          },
          "metadata": {
            "tags": []
          },
          "execution_count": 25
        }
      ]
    },
    {
      "cell_type": "markdown",
      "metadata": {
        "id": "bRrss2teJxPJ"
      },
      "source": [
        "# **Basic functions**"
      ]
    },
    {
      "cell_type": "code",
      "metadata": {
        "colab": {
          "base_uri": "https://localhost:8080/"
        },
        "id": "KRvAcXUVJtds",
        "outputId": "3178513e-4b17-4424-b7fe-cea3346e858a"
      },
      "source": [
        "np.exp(1)"
      ],
      "execution_count": 26,
      "outputs": [
        {
          "output_type": "execute_result",
          "data": {
            "text/plain": [
              "2.718281828459045"
            ]
          },
          "metadata": {
            "tags": []
          },
          "execution_count": 26
        }
      ]
    },
    {
      "cell_type": "code",
      "metadata": {
        "colab": {
          "base_uri": "https://localhost:8080/"
        },
        "id": "mLS9kx0hJ-Q5",
        "outputId": "72ac02e7-af9f-4f5b-fdf3-306ee7e843da"
      },
      "source": [
        "np.sqrt(20)"
      ],
      "execution_count": 27,
      "outputs": [
        {
          "output_type": "execute_result",
          "data": {
            "text/plain": [
              "4.47213595499958"
            ]
          },
          "metadata": {
            "tags": []
          },
          "execution_count": 27
        }
      ]
    },
    {
      "cell_type": "code",
      "metadata": {
        "colab": {
          "base_uri": "https://localhost:8080/"
        },
        "id": "hfLtk5kDKIIJ",
        "outputId": "458622c4-c6e3-4772-b82f-af89fa6d083c"
      },
      "source": [
        "np.all([0,1,3,4,5])"
      ],
      "execution_count": 28,
      "outputs": [
        {
          "output_type": "execute_result",
          "data": {
            "text/plain": [
              "False"
            ]
          },
          "metadata": {
            "tags": []
          },
          "execution_count": 28
        }
      ]
    },
    {
      "cell_type": "code",
      "metadata": {
        "colab": {
          "base_uri": "https://localhost:8080/"
        },
        "id": "q3k-eVCsKQkd",
        "outputId": "ba901d78-6e00-40aa-8eaa-8fd3be3ba9d7"
      },
      "source": [
        "np.any([1,2,3,4,5,6])"
      ],
      "execution_count": 29,
      "outputs": [
        {
          "output_type": "execute_result",
          "data": {
            "text/plain": [
              "True"
            ]
          },
          "metadata": {
            "tags": []
          },
          "execution_count": 29
        }
      ]
    },
    {
      "cell_type": "code",
      "metadata": {
        "colab": {
          "base_uri": "https://localhost:8080/"
        },
        "id": "8SLEXUZwKjPX",
        "outputId": "01317869-5658-4d76-85a7-070496a81be8"
      },
      "source": [
        "bool(0.2)"
      ],
      "execution_count": 30,
      "outputs": [
        {
          "output_type": "execute_result",
          "data": {
            "text/plain": [
              "True"
            ]
          },
          "metadata": {
            "tags": []
          },
          "execution_count": 30
        }
      ]
    },
    {
      "cell_type": "code",
      "metadata": {
        "colab": {
          "base_uri": "https://localhost:8080/"
        },
        "id": "NTqA8lXdKoEb",
        "outputId": "68900614-229f-4e0f-ecd9-676e9cf37941"
      },
      "source": [
        "A=np.random.rand(10)\r\n",
        "A"
      ],
      "execution_count": 31,
      "outputs": [
        {
          "output_type": "execute_result",
          "data": {
            "text/plain": [
              "array([0.12019656, 0.2961402 , 0.11872772, 0.31798318, 0.41426299,\n",
              "       0.0641475 , 0.69247212, 0.56660145, 0.26538949, 0.52324805])"
            ]
          },
          "metadata": {
            "tags": []
          },
          "execution_count": 31
        }
      ]
    },
    {
      "cell_type": "code",
      "metadata": {
        "colab": {
          "base_uri": "https://localhost:8080/"
        },
        "id": "616JvBHJKyU5",
        "outputId": "fa156133-8393-4e28-c34f-aa4087340b33"
      },
      "source": [
        "np.argmax(A)"
      ],
      "execution_count": 32,
      "outputs": [
        {
          "output_type": "execute_result",
          "data": {
            "text/plain": [
              "6"
            ]
          },
          "metadata": {
            "tags": []
          },
          "execution_count": 32
        }
      ]
    },
    {
      "cell_type": "code",
      "metadata": {
        "colab": {
          "base_uri": "https://localhost:8080/"
        },
        "id": "YQ0eyo7JLB9e",
        "outputId": "70566f04-30ed-432e-b153-55c8119a4ead"
      },
      "source": [
        "np.argsort(A)"
      ],
      "execution_count": 33,
      "outputs": [
        {
          "output_type": "execute_result",
          "data": {
            "text/plain": [
              "array([5, 2, 0, 8, 1, 3, 4, 9, 7, 6])"
            ]
          },
          "metadata": {
            "tags": []
          },
          "execution_count": 33
        }
      ]
    },
    {
      "cell_type": "code",
      "metadata": {
        "colab": {
          "base_uri": "https://localhost:8080/"
        },
        "id": "p4K3IinVLVMu",
        "outputId": "e506592e-a39e-4841-baf9-25504c765e76"
      },
      "source": [
        "np.median(A)"
      ],
      "execution_count": 34,
      "outputs": [
        {
          "output_type": "execute_result",
          "data": {
            "text/plain": [
              "0.3070616884580605"
            ]
          },
          "metadata": {
            "tags": []
          },
          "execution_count": 34
        }
      ]
    },
    {
      "cell_type": "code",
      "metadata": {
        "colab": {
          "base_uri": "https://localhost:8080/"
        },
        "id": "ymWgyZmvLadd",
        "outputId": "5d01de76-3269-4f68-bb46-3e5e4c58d339"
      },
      "source": [
        "np.max(A)"
      ],
      "execution_count": 35,
      "outputs": [
        {
          "output_type": "execute_result",
          "data": {
            "text/plain": [
              "0.6924721193700198"
            ]
          },
          "metadata": {
            "tags": []
          },
          "execution_count": 35
        }
      ]
    },
    {
      "cell_type": "markdown",
      "metadata": {
        "id": "YVofFQTVLl58"
      },
      "source": [
        "## **Indexing of parameters from an array**"
      ]
    },
    {
      "cell_type": "code",
      "metadata": {
        "colab": {
          "base_uri": "https://localhost:8080/"
        },
        "id": "e8qrZOKILwnB",
        "outputId": "c6e601f3-3e47-461b-c367-db7bd004bd4e"
      },
      "source": [
        "A"
      ],
      "execution_count": 36,
      "outputs": [
        {
          "output_type": "execute_result",
          "data": {
            "text/plain": [
              "array([0.12019656, 0.2961402 , 0.11872772, 0.31798318, 0.41426299,\n",
              "       0.0641475 , 0.69247212, 0.56660145, 0.26538949, 0.52324805])"
            ]
          },
          "metadata": {
            "tags": []
          },
          "execution_count": 36
        }
      ]
    },
    {
      "cell_type": "code",
      "metadata": {
        "colab": {
          "base_uri": "https://localhost:8080/"
        },
        "id": "LyPkxca4MVyj",
        "outputId": "35da2716-446d-4ad4-f119-4e0fbac7fbce"
      },
      "source": [
        "A[2:]"
      ],
      "execution_count": 37,
      "outputs": [
        {
          "output_type": "execute_result",
          "data": {
            "text/plain": [
              "array([0.11872772, 0.31798318, 0.41426299, 0.0641475 , 0.69247212,\n",
              "       0.56660145, 0.26538949, 0.52324805])"
            ]
          },
          "metadata": {
            "tags": []
          },
          "execution_count": 37
        }
      ]
    },
    {
      "cell_type": "code",
      "metadata": {
        "colab": {
          "base_uri": "https://localhost:8080/"
        },
        "id": "ZvO9JxPYMcaT",
        "outputId": "e19aad67-6f0a-4970-c26a-defc5ab366bc"
      },
      "source": [
        "A[-2:]"
      ],
      "execution_count": 38,
      "outputs": [
        {
          "output_type": "execute_result",
          "data": {
            "text/plain": [
              "array([0.26538949, 0.52324805])"
            ]
          },
          "metadata": {
            "tags": []
          },
          "execution_count": 38
        }
      ]
    },
    {
      "cell_type": "code",
      "metadata": {
        "colab": {
          "base_uri": "https://localhost:8080/"
        },
        "id": "fTnPMzM8MhXa",
        "outputId": "c430fcd2-f6ab-48f6-ba4f-ef22601d9d1f"
      },
      "source": [
        "B = A[-2:]\r\n",
        "A"
      ],
      "execution_count": 39,
      "outputs": [
        {
          "output_type": "execute_result",
          "data": {
            "text/plain": [
              "array([0.12019656, 0.2961402 , 0.11872772, 0.31798318, 0.41426299,\n",
              "       0.0641475 , 0.69247212, 0.56660145, 0.26538949, 0.52324805])"
            ]
          },
          "metadata": {
            "tags": []
          },
          "execution_count": 39
        }
      ]
    },
    {
      "cell_type": "code",
      "metadata": {
        "colab": {
          "base_uri": "https://localhost:8080/"
        },
        "id": "jrt4c4eRNN98",
        "outputId": "f0210c8b-c315-4745-b529-28262610c239"
      },
      "source": [
        "B"
      ],
      "execution_count": 40,
      "outputs": [
        {
          "output_type": "execute_result",
          "data": {
            "text/plain": [
              "array([0.26538949, 0.52324805])"
            ]
          },
          "metadata": {
            "tags": []
          },
          "execution_count": 40
        }
      ]
    },
    {
      "cell_type": "code",
      "metadata": {
        "colab": {
          "base_uri": "https://localhost:8080/"
        },
        "id": "TVfZnYWSNq_c",
        "outputId": "ef979fe2-58b6-4351-d80a-5837c0b23ab6"
      },
      "source": [
        "A = np.random.randint(low=1, high=100, size=(4,5))\r\n",
        "A"
      ],
      "execution_count": 41,
      "outputs": [
        {
          "output_type": "execute_result",
          "data": {
            "text/plain": [
              "array([[42, 59, 66, 37, 11],\n",
              "       [87, 44, 12,  3, 52],\n",
              "       [81, 33, 55,  1, 39],\n",
              "       [20, 47, 43, 57, 61]])"
            ]
          },
          "metadata": {
            "tags": []
          },
          "execution_count": 41
        }
      ]
    },
    {
      "cell_type": "code",
      "metadata": {
        "colab": {
          "base_uri": "https://localhost:8080/"
        },
        "id": "3Rc3unqjNPtr",
        "outputId": "95e6fb74-420d-4083-936f-b635c547befd"
      },
      "source": [
        "A[1:3,-2:]"
      ],
      "execution_count": 42,
      "outputs": [
        {
          "output_type": "execute_result",
          "data": {
            "text/plain": [
              "array([[ 3, 52],\n",
              "       [ 1, 39]])"
            ]
          },
          "metadata": {
            "tags": []
          },
          "execution_count": 42
        }
      ]
    },
    {
      "cell_type": "markdown",
      "metadata": {
        "id": "ZBeZOhkOOeHL"
      },
      "source": [
        "# **Reshape of arrays**"
      ]
    },
    {
      "cell_type": "code",
      "metadata": {
        "colab": {
          "base_uri": "https://localhost:8080/"
        },
        "id": "ayhT__sEOkNC",
        "outputId": "ee2b32c7-cf11-4f73-e474-5768694091d1"
      },
      "source": [
        "A = np.random.randint(low=1, high=100, size=(4,6))\r\n",
        "A"
      ],
      "execution_count": 43,
      "outputs": [
        {
          "output_type": "execute_result",
          "data": {
            "text/plain": [
              "array([[78, 31, 25,  3,  4, 95],\n",
              "       [99, 14, 41, 73, 20, 96],\n",
              "       [73, 27, 67, 53, 68, 62],\n",
              "       [15, 97,  5, 68, 12, 87]])"
            ]
          },
          "metadata": {
            "tags": []
          },
          "execution_count": 43
        }
      ]
    },
    {
      "cell_type": "code",
      "metadata": {
        "colab": {
          "base_uri": "https://localhost:8080/"
        },
        "id": "O2y4tkCnNie6",
        "outputId": "15a8848c-1904-4a44-dc9e-2a28bc0fbc9c"
      },
      "source": [
        "np.ravel(A)"
      ],
      "execution_count": 44,
      "outputs": [
        {
          "output_type": "execute_result",
          "data": {
            "text/plain": [
              "array([78, 31, 25,  3,  4, 95, 99, 14, 41, 73, 20, 96, 73, 27, 67, 53, 68,\n",
              "       62, 15, 97,  5, 68, 12, 87])"
            ]
          },
          "metadata": {
            "tags": []
          },
          "execution_count": 44
        }
      ]
    },
    {
      "cell_type": "code",
      "metadata": {
        "colab": {
          "base_uri": "https://localhost:8080/"
        },
        "id": "P0-7wIu-RAeO",
        "outputId": "12ff0689-6e5c-4cd7-9d80-700691d30333"
      },
      "source": [
        "A.T"
      ],
      "execution_count": 45,
      "outputs": [
        {
          "output_type": "execute_result",
          "data": {
            "text/plain": [
              "array([[78, 99, 73, 15],\n",
              "       [31, 14, 27, 97],\n",
              "       [25, 41, 67,  5],\n",
              "       [ 3, 73, 53, 68],\n",
              "       [ 4, 20, 68, 12],\n",
              "       [95, 96, 62, 87]])"
            ]
          },
          "metadata": {
            "tags": []
          },
          "execution_count": 45
        }
      ]
    },
    {
      "cell_type": "code",
      "metadata": {
        "colab": {
          "base_uri": "https://localhost:8080/"
        },
        "id": "7LjzY_4aRCu0",
        "outputId": "910e9d63-8906-43d2-ad2d-f97cf915a808"
      },
      "source": [
        "A>50"
      ],
      "execution_count": 46,
      "outputs": [
        {
          "output_type": "execute_result",
          "data": {
            "text/plain": [
              "array([[ True, False, False, False, False,  True],\n",
              "       [ True, False, False,  True, False,  True],\n",
              "       [ True, False,  True,  True,  True,  True],\n",
              "       [False,  True, False,  True, False,  True]])"
            ]
          },
          "metadata": {
            "tags": []
          },
          "execution_count": 46
        }
      ]
    },
    {
      "cell_type": "code",
      "metadata": {
        "colab": {
          "base_uri": "https://localhost:8080/"
        },
        "id": "r5i_2RAeRyKY",
        "outputId": "c963c0d2-da91-4780-d54b-67c21cdcbb28"
      },
      "source": [
        "A[A>50]"
      ],
      "execution_count": 47,
      "outputs": [
        {
          "output_type": "execute_result",
          "data": {
            "text/plain": [
              "array([78, 95, 99, 73, 96, 73, 67, 53, 68, 62, 97, 68, 87])"
            ]
          },
          "metadata": {
            "tags": []
          },
          "execution_count": 47
        }
      ]
    },
    {
      "cell_type": "code",
      "metadata": {
        "colab": {
          "base_uri": "https://localhost:8080/"
        },
        "id": "53q11a5BR6dO",
        "outputId": "68e8fe5c-c916-4e25-ce45-d2792b4701d2"
      },
      "source": [
        "A"
      ],
      "execution_count": 48,
      "outputs": [
        {
          "output_type": "execute_result",
          "data": {
            "text/plain": [
              "array([[78, 31, 25,  3,  4, 95],\n",
              "       [99, 14, 41, 73, 20, 96],\n",
              "       [73, 27, 67, 53, 68, 62],\n",
              "       [15, 97,  5, 68, 12, 87]])"
            ]
          },
          "metadata": {
            "tags": []
          },
          "execution_count": 48
        }
      ]
    },
    {
      "cell_type": "code",
      "metadata": {
        "colab": {
          "base_uri": "https://localhost:8080/"
        },
        "id": "m7C-8RVNSA39",
        "outputId": "a0632168-decd-4487-c7c8-0e33b7c2eeeb"
      },
      "source": [
        "np.bitwise_and(A>60, A<80)"
      ],
      "execution_count": 49,
      "outputs": [
        {
          "output_type": "execute_result",
          "data": {
            "text/plain": [
              "array([[ True, False, False, False, False, False],\n",
              "       [False, False, False,  True, False, False],\n",
              "       [ True, False,  True, False,  True,  True],\n",
              "       [False, False, False,  True, False, False]])"
            ]
          },
          "metadata": {
            "tags": []
          },
          "execution_count": 49
        }
      ]
    },
    {
      "cell_type": "code",
      "metadata": {
        "colab": {
          "base_uri": "https://localhost:8080/"
        },
        "id": "YCN4q3rJSY4B",
        "outputId": "ba4eabf8-ed85-4918-84ee-1fd775ae92e2"
      },
      "source": [
        "A[np.bitwise_and(A>60, A<80)]"
      ],
      "execution_count": 50,
      "outputs": [
        {
          "output_type": "execute_result",
          "data": {
            "text/plain": [
              "array([78, 73, 73, 67, 68, 62, 68])"
            ]
          },
          "metadata": {
            "tags": []
          },
          "execution_count": 50
        }
      ]
    },
    {
      "cell_type": "code",
      "metadata": {
        "id": "VwbXFt_ySvZW"
      },
      "source": [
        ""
      ],
      "execution_count": 50,
      "outputs": []
    }
  ]
}